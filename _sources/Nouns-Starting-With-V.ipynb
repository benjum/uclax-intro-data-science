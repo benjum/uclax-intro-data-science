{
 "cells": [
  {
   "cell_type": "markdown",
   "id": "athletic-mitchell",
   "metadata": {},
   "source": [
    "# Nouns Starting With V"
   ]
  },
  {
   "cell_type": "markdown",
   "id": "nasty-moore",
   "metadata": {},
   "source": [
    "Import some libraries and gather data:"
   ]
  },
  {
   "cell_type": "code",
   "execution_count": null,
   "id": "decent-pledge",
   "metadata": {},
   "outputs": [],
   "source": [
    "import nltk\n",
    "nltk.download('words')\n",
    "nltk.download('averaged_perceptron_tagger')\n",
    "nltk.download('wordnet')\n",
    "nltk.download('omw-1.4')\n",
    "from nltk.corpus import words, wordnet\n",
    "import random\n",
    "\n",
    "print('Imports done.')"
   ]
  },
  {
   "cell_type": "markdown",
   "id": "waiting-rebound",
   "metadata": {},
   "source": [
    "* Get words that start with \"v\".\n",
    "* Make a function to test if a word is a noun.\n",
    "* Make a list of all \"v\"-starting words that are nouns."
   ]
  },
  {
   "cell_type": "code",
   "execution_count": null,
   "id": "complete-column",
   "metadata": {},
   "outputs": [],
   "source": [
    "# get words that start with v\n",
    "vwords = [i for i in words.words() if i[0]=='v']\n",
    "# function to test if something is a noun\n",
    "is_noun = lambda pos: pos[:2] == 'NN'\n",
    "# do the nlp stuff\n",
    "vwordsNouns = [word for (word, pos) in nltk.pos_tag(vwords) if is_noun(pos)]\n",
    "\n",
    "print('We have a v-starting noun list.')"
   ]
  },
  {
   "cell_type": "markdown",
   "id": "graphic-remark",
   "metadata": {},
   "source": [
    "Print a random sample of these words, along with the difinitions (as provided by wordnet)."
   ]
  },
  {
   "cell_type": "code",
   "execution_count": null,
   "id": "structural-gather",
   "metadata": {},
   "outputs": [],
   "source": [
    "n = 1\n",
    "for i in random.sample(vwordsNouns, n):\n",
    "    if wordnet.synsets(i):\n",
    "        print(i,':  ',wordnet.synsets(i)[0].definition())\n",
    "    else:\n",
    "        print(i,':  (?)')"
   ]
  }
 ],
 "metadata": {
  "kernelspec": {
   "display_name": "Python 3",
   "language": "python",
   "name": "python3"
  },
  "language_info": {
   "codemirror_mode": {
    "name": "ipython",
    "version": 3
   },
   "file_extension": ".py",
   "mimetype": "text/x-python",
   "name": "python",
   "nbconvert_exporter": "python",
   "pygments_lexer": "ipython3",
   "version": "3.8.8"
  }
 },
 "nbformat": 4,
 "nbformat_minor": 5
}
